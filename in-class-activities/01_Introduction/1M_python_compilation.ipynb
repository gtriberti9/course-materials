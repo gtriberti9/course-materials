{
  "cells": [
    {
      "cell_type": "markdown",
      "metadata": {
        "id": "F9rXYh53ysHb"
      },
      "source": [
        "<a href=\"https://colab.research.google.com/drive/1xp1hk0gnvFQgVD5Avvi7DqoMMlLAJptu?usp=sharing\" target=\"_parent\"><img src=\"https://colab.research.google.com/assets/colab-badge.svg\" alt=\"Open In Colab\"/></a>\n",
        "\n",
        "# Compiling Python with `numba` and `cython`\n",
        "\n",
        "Reproduce Python function from lecture and measure its execution time:"
      ]
    },
    {
      "cell_type": "code",
      "execution_count": 5,
      "metadata": {
        "colab": {
          "base_uri": "https://localhost:8080/"
        },
        "id": "FUFJ7Z3lsWCv",
        "outputId": "18f94496-ab46-4dc3-f728-8d5884895c37"
      },
      "outputs": [
        {
          "name": "stdout",
          "output_type": "stream",
          "text": [
            "CPU times: total: 93.8 ms\n",
            "Wall time: 83.8 ms\n"
          ]
        },
        {
          "data": {
            "text/plain": [
              "inf"
            ]
          },
          "execution_count": 5,
          "metadata": {},
          "output_type": "execute_result"
        }
      ],
      "source": [
        "def loop(x, r):\n",
        "    for i in range(r):\n",
        "        x *= 2.5\n",
        "    return x\n",
        "\n",
        "%time loop(2, 10**6)"
      ]
    },
    {
      "cell_type": "markdown",
      "metadata": {
        "id": "wRHr2CYb2gvC"
      },
      "source": [
        "## Using `numba`\n",
        "\n",
        "First, let's try compiling \"Just in Time\" using `numba`:"
      ]
    },
    {
      "cell_type": "code",
      "execution_count": null,
      "metadata": {
        "colab": {
          "base_uri": "https://localhost:8080/"
        },
        "id": "iTPC0twnsGpc",
        "outputId": "bcf861d5-5098-402a-da77-51e3195aa61f"
      },
      "outputs": [
        {
          "name": "stdout",
          "output_type": "stream",
          "text": [
            "CPU times: total: 109 ms\n",
            "Wall time: 107 ms\n"
          ]
        },
        {
          "data": {
            "text/plain": [
              "inf"
            ]
          },
          "execution_count": 6,
          "metadata": {},
          "output_type": "execute_result"
        }
      ],
      "source": [
        "from numba import jit\n",
        "\n",
        "# jit compiles when we call the function for the first time\n",
        "# nopython tries to run without involving Python interpreter\n",
        "\n",
        "# We need to define this everytime before the function if we want to compile\n",
        "# specific things and not the whole code\n",
        "@jit(nopython=True)\n",
        "def loop_jit(x, r):\n",
        "  for i in range(r):\n",
        "    x *= 2.5\n",
        "  return x\n",
        "\n",
        "%time loop_jit(2, 10**6) # includes compilation time\n",
        "\n",
        "# The more time it takes to do the first compile, the more benefit you obtain \n",
        "# from compiling first\n",
        "# There is no specific rule. "
      ]
    },
    {
      "cell_type": "code",
      "execution_count": null,
      "metadata": {
        "colab": {
          "base_uri": "https://localhost:8080/"
        },
        "id": "xUnhxUOnsrt8",
        "outputId": "60895ce5-4e98-4668-d425-637e36a2f897"
      },
      "outputs": [
        {
          "name": "stdout",
          "output_type": "stream",
          "text": [
            "CPU times: user 1.47 ms, sys: 62 µs, total: 1.53 ms\n",
            "Wall time: 1.54 ms\n"
          ]
        },
        {
          "data": {
            "text/plain": [
              "inf"
            ]
          },
          "execution_count": 3,
          "metadata": {},
          "output_type": "execute_result"
        }
      ],
      "source": [
        "%time loop_jit(2, 10**6) # much faster after compilation"
      ]
    },
    {
      "cell_type": "code",
      "execution_count": 7,
      "metadata": {
        "colab": {
          "base_uri": "https://localhost:8080/"
        },
        "id": "eXibv5les8UY",
        "outputId": "081fa55a-2feb-408a-b27e-734d6aa26c61"
      },
      "outputs": [
        {
          "name": "stdout",
          "output_type": "stream",
          "text": [
            "93.7 ms ± 16.5 ms per loop (mean ± std. dev. of 7 runs, 10 loops each)\n"
          ]
        }
      ],
      "source": [
        "# This one is better, it times across multiple runs\n",
        "%timeit loop(3, 10**6) # better to time across multiple runs using `timeit`"
      ]
    },
    {
      "cell_type": "code",
      "execution_count": 8,
      "metadata": {
        "colab": {
          "base_uri": "https://localhost:8080/"
        },
        "id": "uWgsB-Y1tKrR",
        "outputId": "1c421b76-cba6-4f52-adee-7dc9c48ec51e"
      },
      "outputs": [
        {
          "name": "stdout",
          "output_type": "stream",
          "text": [
            "2.02 ms ± 150 μs per loop (mean ± std. dev. of 7 runs, 1,000 loops each)\n"
          ]
        }
      ],
      "source": [
        "%timeit loop_jit(3, 10**6)"
      ]
    },
    {
      "cell_type": "markdown",
      "metadata": {
        "id": "NTCtAE38vffd"
      },
      "source": [
        "We might want to compile our code ahead of time, though, so that we can see a speed-up the first time we use it. `numba` allows us to compile ahead of time like so:\n"
      ]
    },
    {
      "cell_type": "code",
      "execution_count": 1,
      "metadata": {
        "id": "EZiha2zLtN3n"
      },
      "outputs": [],
      "source": [
        "from numba.pycc import CC\n",
        "\n",
        "# name of compiled module to create:\n",
        "cc = CC('test_aot')\n",
        "\n",
        "# name of function in module, with explicit data types required (4byte=32bit ints and floats)\n",
        "@cc.export('loop_aot', 'f4(f4,i4)')\n",
        "def loop_aot(x, r):\n",
        "    for i in range(r):\n",
        "        x *= 2.5\n",
        "    return x\n",
        "\n",
        "cc.compile()"
      ]
    },
    {
      "cell_type": "markdown",
      "metadata": {
        "id": "vAIwPxFhu_W2"
      },
      "source": [
        "Note that we now have a compiled object file (.so) in our current directory. This is a compiled module that contains our function."
      ]
    },
    {
      "cell_type": "code",
      "execution_count": 3,
      "metadata": {
        "colab": {
          "base_uri": "https://localhost:8080/"
        },
        "id": "sPvmIS5wtWGE",
        "outputId": "bccc5026-0310-4b19-8ef5-1269a457bc28"
      },
      "outputs": [
        {
          "name": "stdout",
          "output_type": "stream",
          "text": [
            " El volumen de la unidad C no tiene etiqueta.\n",
            " El n�mero de serie del volumen es: FEE0-2E68\n",
            "\n",
            " Directorio de c:\\Users\\HP\\Downloads\\UChicago\\1. Courses\\3. Spring Quarter 2025\\Large-scale computing\\course-materials\\in-class-activities\\01_Introduction\n",
            "\n",
            "25/03/2025  02:53 p. m.    <DIR>          .\n",
            "25/03/2025  12:37 p. m.    <DIR>          ..\n",
            "25/03/2025  02:53 p. m.            27,350 1M_python_compilation.ipynb\n",
            "25/03/2025  02:53 p. m.            40,960 test_aot.cp313-win_amd64.pyd\n",
            "               2 archivos         68,310 bytes\n",
            "               2 dirs  98,227,331,072 bytes libres\n"
          ]
        }
      ],
      "source": [
        "ls"
      ]
    },
    {
      "cell_type": "markdown",
      "metadata": {
        "id": "GtNEHRzvvVb6"
      },
      "source": [
        "To use our function, we just need to import our pre-compiled module, as we would any other Python module:"
      ]
    },
    {
      "cell_type": "code",
      "execution_count": 4,
      "metadata": {
        "colab": {
          "base_uri": "https://localhost:8080/"
        },
        "id": "6dPwBf_ytXbg",
        "outputId": "5a1f2e61-a5b7-4e2a-cd27-c2d397ec769b"
      },
      "outputs": [
        {
          "name": "stdout",
          "output_type": "stream",
          "text": [
            "CPU times: total: 0 ns\n",
            "Wall time: 1.1 ms\n"
          ]
        },
        {
          "data": {
            "text/plain": [
              "inf"
            ]
          },
          "execution_count": 4,
          "metadata": {},
          "output_type": "execute_result"
        }
      ],
      "source": [
        "import test_aot\n",
        "%time test_aot.loop_aot(2, 10**6) # first time running it is fast this time"
      ]
    },
    {
      "cell_type": "code",
      "execution_count": 5,
      "metadata": {
        "colab": {
          "base_uri": "https://localhost:8080/"
        },
        "id": "sf5zuvi2tdHv",
        "outputId": "61f5141d-18bf-46fe-c511-4f13c3d07e75"
      },
      "outputs": [
        {
          "name": "stdout",
          "output_type": "stream",
          "text": [
            "1.01 ms ± 3.37 μs per loop (mean ± std. dev. of 7 runs, 1,000 loops each)\n"
          ]
        }
      ],
      "source": [
        "%timeit test_aot.loop_aot(2, 10**6) # same overall performance as before"
      ]
    },
    {
      "cell_type": "markdown",
      "metadata": {
        "id": "eo0Sp3F4uQpI"
      },
      "source": [
        "## Using `cython`\n",
        "\n",
        "Another common way to compile Python code (albeit slightly uglier) is to compile our function via explicit `cython` static typing, like so (here, using the IPython `cython` extension to compile):"
      ]
    },
    {
      "cell_type": "code",
      "execution_count": 6,
      "metadata": {
        "id": "pPYSIMqjtdnk"
      },
      "outputs": [],
      "source": [
        "%load_ext cython"
      ]
    },
    {
      "cell_type": "code",
      "execution_count": 7,
      "metadata": {
        "id": "sil1uDsgtzJW"
      },
      "outputs": [
        {
          "name": "stdout",
          "output_type": "stream",
          "text": [
            "Content of stdout:\n",
            "_cython_magic_f1d8097bee103e88fa9bf836eb9513f3b915de8e.c\n",
            "C:\\Users\\HP\\.ipython\\cython\\_cython_magic_f1d8097bee103e88fa9bf836eb9513f3b915de8e.c(2341): warning C4244: '=': conversi¢n de 'double' a 'float'; posible prdida de datos\n",
            "   Creando biblioteca C:\\Users\\HP\\.ipython\\cython\\_cython_magic_f1d8097bee103e88fa9bf836eb9513f3b915de8e.cp313-win_amd64.lib y objeto C:\\Users\\HP\\.ipython\\cython\\_cython_magic_f1d8097bee103e88fa9bf836eb9513f3b915de8e.cp313-win_amd64.exp\n",
            "Generando c¢digo\n",
            "Generaci¢n de c¢digo finalizada"
          ]
        }
      ],
      "source": [
        "%%cython\n",
        "\n",
        "# explicitly add static types to function itself:\n",
        "def loop_cython(float x, int r):\n",
        "    cdef int i\n",
        "    for i in range(r):\n",
        "        x *= 2.5\n",
        "    return x"
      ]
    },
    {
      "cell_type": "code",
      "execution_count": 8,
      "metadata": {
        "colab": {
          "base_uri": "https://localhost:8080/"
        },
        "id": "JnDHKnJqt57y",
        "outputId": "44a00501-0133-4b6b-ec8c-09eee551f6af"
      },
      "outputs": [
        {
          "name": "stdout",
          "output_type": "stream",
          "text": [
            "3.53 ms ± 15 μs per loop (mean ± std. dev. of 7 runs, 100 loops each)\n"
          ]
        }
      ],
      "source": [
        "%timeit loop_cython(2, 10**6) # comparable performance to numba"
      ]
    }
  ],
  "metadata": {
    "colab": {
      "provenance": []
    },
    "kernelspec": {
      "display_name": "macs30123",
      "language": "python",
      "name": "python3"
    },
    "language_info": {
      "codemirror_mode": {
        "name": "ipython",
        "version": 3
      },
      "file_extension": ".py",
      "mimetype": "text/x-python",
      "name": "python",
      "nbconvert_exporter": "python",
      "pygments_lexer": "ipython3",
      "version": "3.13.2"
    }
  },
  "nbformat": 4,
  "nbformat_minor": 0
}
